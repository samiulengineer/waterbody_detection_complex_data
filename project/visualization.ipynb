{
 "cells": [
  {
   "attachments": {},
   "cell_type": "markdown",
   "metadata": {},
   "source": [
    "### Importing all the necessary libraries"
   ]
  },
  {
   "cell_type": "code",
   "execution_count": 1,
   "metadata": {},
   "outputs": [],
   "source": [
    "import os\n",
    "import glob\n",
    "import cv2\n",
    "import json\n",
    "import pathlib\n",
    "import numpy as np\n",
    "import pandas as pd\n",
    "import tensorflow as tf\n",
    "import earthpy.plot as ep\n",
    "import earthpy.spatial as es\n",
    "from progressbar import ProgressBar\n",
    "from matplotlib import pyplot as plt\n",
    "%matplotlib inline\n",
    "from mrc_insar_common.data import data_reader"
   ]
  },
  {
   "attachments": {},
   "cell_type": "markdown",
   "metadata": {},
   "source": [
    "Import function from local file"
   ]
  },
  {
   "cell_type": "code",
   "execution_count": 2,
   "metadata": {},
   "outputs": [],
   "source": [
    "from dataset import readRas, data_path_split, patch_images, MyDataset, transform_data, Augment\n",
    "from config import get_config"
   ]
  },
  {
   "attachments": {},
   "cell_type": "markdown",
   "metadata": {},
   "source": [
    "Get the hyperparameter dictionary from `config` file using `get_config()` function and creating directory for saving the figures."
   ]
  },
  {
   "cell_type": "code",
   "execution_count": 3,
   "metadata": {},
   "outputs": [],
   "source": [
    "config = get_config()\n",
    "pathlib.Path(config['visualization_dir']).mkdir(parents=True, exist_ok=True)"
   ]
  },
  {
   "attachments": {},
   "cell_type": "markdown",
   "metadata": {},
   "source": [
    "Create csv and json file if not exits"
   ]
  },
  {
   "cell_type": "code",
   "execution_count": null,
   "metadata": {},
   "outputs": [],
   "source": [
    "if not (os.path.exists(config['train_dir'])):\n",
    "    data_path_split(config)\n",
    "# creating jason files for train, test and validation\n",
    "if not (os.path.exists(config[\"p_train_dir\"])) and config['patchify']:\n",
    "    print(\"Saving patchify indices for train and test.....\")\n",
    "\n",
    "    train_data = pd.read_csv(config['train_dir'])\n",
    "    valid_data = pd.read_csv(config['valid_dir'])\n",
    "    test_data = pd.read_csv(config['test_dir'])\n",
    "\n",
    "    config['patch_class_balance'] = True\n",
    "    patch_images(train_data, config, \"train_patch_phr_cb_\")\n",
    "    patch_images(valid_data, config, \"valid_patch_phr_cb_\")\n",
    "    patch_images(test_data, config, \"test_patch_phr_cb_\")\n",
    "\n",
    "    config['patch_class_balance'] = False\n",
    "    patch_images(train_data, config, \"train_patch_phr_\")\n",
    "    patch_images(valid_data, config, \"valid_patch_phr_\")\n",
    "    patch_images(test_data, config, \"test_patch_phr_\")\n"
   ]
  },
  {
   "attachments": {},
   "cell_type": "markdown",
   "metadata": {},
   "source": [
    "### Helper Functions"
   ]
  },
  {
   "attachments": {},
   "cell_type": "markdown",
   "metadata": {},
   "source": [
    "#### For ploting different type of images.\n",
    "\n",
    "plot():\n",
    "\n",
    "- display_list (dict) - a dictionary where keys are the title of the image and values are images.\n",
    "- id (int) - image id.\n",
    "- directory (str) - path to save the plot."
   ]
  },
  {
   "cell_type": "code",
   "execution_count": 4,
   "metadata": {},
   "outputs": [],
   "source": [
    "def plot(display_list, id, directory, show=True):\n",
    "    plt.figure(figsize=(20, 16))\n",
    "    title = list(display_list.keys())\n",
    "    for i in range(len(display_list)):\n",
    "        plt.subplot(1, len(display_list), i+1)\n",
    "\n",
    "        # plot dem channel using earthpy\n",
    "        if title[i]==\"dem\":\n",
    "            ax = plt.gca()\n",
    "            hillshade = es.hillshade(display_list[title[i]], azimuth=180)\n",
    "            ep.plot_bands(\n",
    "                display_list[title[i]],\n",
    "                cbar=False,\n",
    "                cmap=\"terrain\",\n",
    "                title=title[i],\n",
    "                ax=ax\n",
    "            )\n",
    "            ax.imshow(hillshade, cmap=\"Greys\", alpha=0.5)\n",
    "        # gray image plot rslc\\n\",\n",
    "        elif title[i]==\"rslc1\" or title[i]==\"rslc2\":\n",
    "            plt.title(title[i])\n",
    "            c2 = plt.imshow((display_list[title[i]])**0.25, cmap=\"gray\", interpolation=None)\n",
    "            ax = plt.gca()\n",
    "            fig = plt.gcf()\n",
    "            fig.colorbar(c2, ax=ax, fraction=0.046)\n",
    "            plt.axis('off')\n",
    "        elif title[i]==\"rslc1_label\" or title[i]==\"rslc2_label\":\n",
    "            plt.title(title[i])\n",
    "            c2 = plt.imshow((display_list[title[i]])**0.3, cmap=\"gray\", interpolation=None)\n",
    "            ax = plt.gca()\n",
    "            fig = plt.gcf()\n",
    "            fig.colorbar(c2, ax=ax, fraction=0.046)\n",
    "            plt.axis('off')\n",
    "        # ifr plot\n",
    "        elif title[i]==\"ifg\":\n",
    "            plt.title(title[i])\n",
    "            c2 = plt.imshow((display_list[title[i]]), cmap='YlGnBu', interpolation=None)\n",
    "            ax = plt.gca()\n",
    "            fig = plt.gcf()\n",
    "            fig.colorbar(c2, ax=ax, fraction=0.046)\n",
    "            plt.axis('off')\n",
    "        # plot labels\n",
    "        else:\n",
    "            plt.title(title[i])\n",
    "            c2 = plt.imshow((display_list[title[i]]), vmin=0, vmax=1)\n",
    "            ax = plt.gca()\n",
    "            fig = plt.gcf()\n",
    "            fig.colorbar(c2, ax=ax, fraction=0.046)\n",
    "            plt.axis('off')\n",
    "    \n",
    "    prediction_name = \"img_id_{}.png\".format(id) # create file name to save\n",
    "    plt.savefig(os.path.join(directory, prediction_name), bbox_inches='tight', dpi=800)\n",
    "    if show:\n",
    "        plt.show()\n",
    "    plt.clf()\n",
    "    plt.cla()\n",
    "    plt.close()"
   ]
  },
  {
   "attachments": {},
   "cell_type": "markdown",
   "metadata": {},
   "source": [
    "### For calculating total pixel ratio"
   ]
  },
  {
   "cell_type": "code",
   "execution_count": 5,
   "metadata": {},
   "outputs": [
    {
     "name": "stdout",
     "output_type": "stream",
     "text": [
      "unique value [0, 255]\n",
      "{'Water': 0.23953188267219586, 'NON-Water': 0.7604681173278042}\n"
     ]
    }
   ],
   "source": [
    "def total_pixel(config):\n",
    "    label = sorted(glob.glob(config[\"dataset_dir\"]+\"label/*.ras\"))\n",
    "    uni_value = []\n",
    "    total_pix = 0\n",
    "    water = 0\n",
    "    for i in range(len(label)):\n",
    "        mask = readRas(label[i])[0]\n",
    "        for i in np.unique(mask):\n",
    "            if i not in uni_value:\n",
    "                uni_value.append(i)\n",
    "        mask[mask==255] = 1\n",
    "        total_pix += mask.shape[0]*mask.shape[1]\n",
    "        water += np.sum(mask)\n",
    "\n",
    "\n",
    "    print(\"unique value\", uni_value)\n",
    "    pixels = {\"Water\":water/total_pix, \n",
    "            \"NON-Water\":(total_pix - water)/total_pix}\n",
    "    print(pixels)\n",
    "    \n",
    "    \n",
    "total_pixel(config)"
   ]
  },
  {
   "attachments": {},
   "cell_type": "markdown",
   "metadata": {},
   "source": [
    "### Pixel percentage check"
   ]
  },
  {
   "cell_type": "code",
   "execution_count": 20,
   "metadata": {},
   "outputs": [],
   "source": [
    "with open(config['p_train_dir'], 'r') as j:\n",
    "    train_dir = json.loads(j.read())\n",
    "\n",
    "train_idx = train_dir['patch_idx']\n",
    "\n",
    "# Augment\n",
    "# augment_obj = Augment(config['batch_size'], config['in_channels'], tiles_width=config['tiles_size'])\n",
    "# n_batch_size = config['batch_size']-augment_obj.aug_img_batch\n",
    "\n",
    "# # weights\n",
    "# weights = tf.constant(config['balance_weights'])\n",
    "# n_batch_size = config['batch_size'] - augment_obj.aug_img_batch\n",
    "\n",
    "\n",
    "# train_dataset = MyDataset(train_dir,\n",
    "#                         in_channels=config['in_channels'], patchify=config['patchify'],\n",
    "#                         batch_size=n_batch_size, transform_fn=transform_data, \n",
    "#                         num_class=config['num_classes'], augment=augment_obj, \n",
    "#                         weights=weights, patch_idx=train_idx, tile_width=config[\"tiles_size\"])\n",
    "\n",
    "\n",
    "train_dataset = MyDataset(train_dir,\n",
    "                        in_channels=config['in_channels'], patchify=True,\n",
    "                        batch_size=10, transform_fn=transform_data, \n",
    "                        num_class=config['num_classes'], augment=False, \n",
    "                        weights=None, patch_idx=train_idx, tile_width=config[\"tiles_size\"])"
   ]
  },
  {
   "cell_type": "code",
   "execution_count": 21,
   "metadata": {},
   "outputs": [
    {
     "data": {
      "text/plain": [
       "0"
      ]
     },
     "execution_count": 21,
     "metadata": {},
     "output_type": "execute_result"
    }
   ],
   "source": [
    "train_dataset.__len__()"
   ]
  },
  {
   "cell_type": "code",
   "execution_count": 13,
   "metadata": {},
   "outputs": [],
   "source": [
    "for x, y in train_dataset:\n",
    "    print(x.shape)\n",
    "    print(y.shape)\n",
    "    break\n"
   ]
  },
  {
   "attachments": {},
   "cell_type": "markdown",
   "metadata": {},
   "source": [
    "### Plotting Row Data"
   ]
  },
  {
   "cell_type": "code",
   "execution_count": 6,
   "metadata": {},
   "outputs": [],
   "source": [
    "def display_raw_data(config):\n",
    "    \n",
    "    pathlib.Path((config['visualization_dir']+'display_raw_data')).mkdir(parents = True, exist_ok = True)\n",
    "\n",
    "    wid, hgt = config['actual_width'], config['actual_height']  # from the masterpar.xml\n",
    "\n",
    "    rslcs = sorted(glob.glob(config[\"dataset_dir\"]+\"rslc/*.rslc.notopo\"))\n",
    "    label = sorted(glob.glob(config[\"dataset_dir\"]+\"label/*.ras\"))\n",
    "\n",
    "    rslc1 = data_reader.readBin(rslcs[0], width=wid, dataType='floatComplex') # SLC(RSLC) image\n",
    "    rslc2 = data_reader.readBin(rslcs[1], width=wid, dataType='floatComplex') # SLC(RSLC) image\n",
    "    rslc1_label = readRas(label[0])[0]\n",
    "    rslc2_label = readRas(label[1])[0]\n",
    "\n",
    "    rslc1_label[rslc1_label==255] = 1\n",
    "    rslc2_label[rslc2_label==255] = 1\n",
    "\n",
    "    id = rslcs[0].split(\"/\")[-1].split(\".\")[0].split(\"\\\\\")[-1]\n",
    "    id2 = rslcs[3].split(\"/\")[-1].split(\".\")[0].split(\"\\\\\")[-1]\n",
    "\n",
    "    display_list = {\n",
    "                     \"rslc1\": np.abs(rslc1),\n",
    "                     \"rslc2\": np.abs(rslc2),\n",
    "                     \"ifg\": np.angle(rslc2*np.conjugate(rslc1)),\n",
    "                     \"rslc1_label\": rslc1_label,\n",
    "                     \"rslc2_label\": rslc2_label\n",
    "                     }\n",
    "    plot(display_list, (id+\"_\"+id2), (config['visualization_dir']+'display_raw_data'))\n",
    "\n",
    "display_raw_data(config)"
   ]
  },
  {
   "attachments": {},
   "cell_type": "markdown",
   "metadata": {},
   "source": [
    "### Plotting Tiles"
   ]
  },
  {
   "attachments": {},
   "cell_type": "markdown",
   "metadata": {},
   "source": [
    "Plot a single tiles from train, test and validation "
   ]
  },
  {
   "cell_type": "code",
   "execution_count": 7,
   "metadata": {},
   "outputs": [
    {
     "name": "stdout",
     "output_type": "stream",
     "text": [
      "Train examples:  104\n",
      "rslc1: (1024, 1024)\n",
      "rslc2: (1024, 1024)\n",
      "ifg: (1024, 1024)\n",
      "rslc1_label: (1024, 1024)\n",
      "rslc2_label: (1024, 1024)\n"
     ]
    },
    {
     "name": "stdout",
     "output_type": "stream",
     "text": [
      "Valid examples:  13\n",
      "rslc1: (1024, 1024)\n",
      "rslc2: (1024, 1024)\n",
      "ifg: (1024, 1024)\n",
      "rslc1_label: (1024, 1024)\n",
      "rslc2_label: (1024, 1024)\n"
     ]
    }
   ],
   "source": [
    "def display_all(data, config):\n",
    "    \"\"\"\n",
    "    Summary:\n",
    "        save all images into single figure\n",
    "    Arguments:\n",
    "        data : data file holding images path\n",
    "        directory (str) : path to save images\n",
    "    Return:\n",
    "        save images figure into directory\n",
    "    \"\"\"\n",
    "    pathlib.Path((config['visualization_dir']+'display_tiles')).mkdir(parents = True, exist_ok = True)\n",
    "\n",
    "    rslc1 = data_reader.readBin(data['rslc0'], width=config['tiles_size'], dataType='floatComplex') # SLC(RSLC) image\n",
    "    rslc2 = data_reader.readBin(data['rslc1'], width=config['tiles_size'], dataType='floatComplex') # SLC(RSLC) image\n",
    "    rslc1_label = readRas(data['rslc0_label'])[0]\n",
    "    rslc2_label = readRas(data['rslc1_label'])[0]\n",
    "\n",
    "    rslc1_label[rslc1_label==255] = 1\n",
    "    rslc2_label[rslc2_label==255] = 1\n",
    "        \n",
    "    id = data['rslc1'].split(\"/\")[-1].split(\".\")[0].split(\"\\\\\")[-1]\n",
    "    # ifg = np.angle(np.log(np.abs(rslc2))*np.conjugate(np.log(np.abs(rslc1))))\n",
    "    ifg = np.angle(rslc2*np.conjugate(rslc1))\n",
    "\n",
    "    print('rslc1:',rslc1.shape)\n",
    "    print('rslc2:',rslc2.shape)\n",
    "    print('ifg:',ifg.shape)\n",
    "    print('rslc1_label:',rslc1_label.shape)\n",
    "    print('rslc2_label:',rslc2_label.shape)\n",
    "\n",
    "    display_list = {\n",
    "                   \"rslc1\":np.abs(rslc1),\n",
    "                   \"rslc2\":np.abs(rslc2),\n",
    "                   \"ifg\":ifg,\n",
    "                   \"rslc1_label\": rslc1_label,\n",
    "                   \"rslc2_label\":rslc2_label\n",
    "                  }\n",
    "    plot(display_list, id, (config['visualization_dir']+'display_tiles'))\n",
    "\n",
    "\n",
    "# change the value for specific plot\n",
    "train_index = 5\n",
    "val_index = 5\n",
    "test_index = 1\n",
    "\n",
    "train_dir = pd.read_csv(config['train_dir'])\n",
    "print(\"Train examples: \", len(train_dir))\n",
    "display_all(train_dir.iloc[train_index], config)\n",
    "    \n",
    "valid_dir = pd.read_csv(config['valid_dir'])\n",
    "print(\"Valid examples: \", len(valid_dir))\n",
    "display_all(valid_dir.iloc[val_index], config)\n",
    "\n",
    "# test_dir = pd.read_csv(config['test_dir'])\n",
    "# print(\"Test examples: \", len(test_dir))\n",
    "# display_all(test_dir.iloc[test_index], config)"
   ]
  },
  {
   "attachments": {},
   "cell_type": "markdown",
   "metadata": {},
   "source": [
    "#### Plot all the tiles"
   ]
  },
  {
   "cell_type": "code",
   "execution_count": 8,
   "metadata": {},
   "outputs": [
    {
     "name": "stderr",
     "output_type": "stream",
     "text": [
      "100% |########################################################################|\n",
      "100% |########################################################################|\n"
     ]
    }
   ],
   "source": [
    "def display_all(data, config):\n",
    "    \"\"\"\n",
    "    Summary:\n",
    "        save all images into single figure\n",
    "    Arguments:\n",
    "        data : data file holding images path\n",
    "        directory (str) : path to save images\n",
    "    Return:\n",
    "        save images figure into directory\n",
    "    \"\"\"\n",
    "    pathlib.Path((config['visualization_dir']+'display_tiles')).mkdir(parents = True, exist_ok = True)\n",
    "    \n",
    "    pbar = ProgressBar()\n",
    "    for i in pbar(range(len(data))):\n",
    "        rslc1 = data_reader.readBin(data['rslc0'][i], width=config['tiles_size'], dataType='floatComplex') # SLC(RSLC) image\n",
    "        rslc2 = data_reader.readBin(data['rslc1'][i], width=config['tiles_size'], dataType='floatComplex') # SLC(RSLC) image\n",
    "        rslc1_label = readRas(data['rslc0_label'][i])[0]\n",
    "        rslc2_label = readRas(data['rslc1_label'][i])[0]\n",
    "\n",
    "        rslc1_label[rslc1_label==255] = 1\n",
    "        rslc2_label[rslc2_label==255] = 1\n",
    "        \n",
    "        id = data['rslc1'][i].split(\"/\")[-1].split(\".\")[0].split(\"\\\\\")[-1]\n",
    "        # ifg = np.angle(np.log(np.abs(rslc2))*np.conjugate(np.log(np.abs(rslc1))))\n",
    "        ifg = np.angle(rslc2*np.conjugate(rslc1))\n",
    "\n",
    "        display_list = {\n",
    "                        \"rslc1\":np.abs(rslc1),\n",
    "                        \"rslc2\":np.abs(rslc2),\n",
    "                        \"ifg\":ifg,\n",
    "                        \"rslc1_label\": rslc1_label,\n",
    "                        \"rslc2_label\":rslc2_label\n",
    "                        }\n",
    "        plot(display_list, id, (config['visualization_dir']+'display_tiles'))\n",
    "\n",
    "\n",
    "\n",
    "# train_dir = pd.read_csv(config['train_dir'])\n",
    "# display_all(train_dir, config)\n",
    "    \n",
    "valid_dir = pd.read_csv(config['valid_dir'])\n",
    "display_all(valid_dir, config)\n",
    "\n",
    "test_dir = pd.read_csv(config['test_dir'])\n",
    "display_all(test_dir, config)"
   ]
  },
  {
   "attachments": {},
   "cell_type": "markdown",
   "metadata": {},
   "source": [
    "### Plot Patch image"
   ]
  },
  {
   "attachments": {},
   "cell_type": "markdown",
   "metadata": {},
   "source": [
    "#### Plot a single patch image"
   ]
  },
  {
   "cell_type": "code",
   "execution_count": null,
   "metadata": {},
   "outputs": [],
   "source": [
    "def display_patch(data, config):\n",
    "    \"\"\"\n",
    "    Summary:\n",
    "        save all images into single figure\n",
    "    Arguments:\n",
    "        data : data file holding images path\n",
    "        directory (str) : path to save images\n",
    "    Return:\n",
    "        save images figure into directory\n",
    "    \"\"\"\n",
    "\n",
    "    pathlib.Path((config['visualization_dir']+'display_patch')).mkdir(parents = True, exist_ok = True)\n",
    "\n",
    "    rslc1 = data_reader.readBin(data['rslc0'], width=config['tiles_size'], dataType='floatComplex') # SLC(RSLC) image\n",
    "    rslc2 = data_reader.readBin(data['rslc1'], width=config['tiles_size'], dataType='floatComplex') # SLC(RSLC) image\n",
    "    rslc1_label = readRas(data['rslc0_label'])[0]\n",
    "    rslc2_label = readRas(data['rslc1_label'])[0]\n",
    "\n",
    "    rslc1_label[rslc1_label==255] = 1\n",
    "    rslc2_label[rslc2_label==255] = 1\n",
    "        \n",
    "    rslc1_amp = rslc1[data['patch_idx'][0]:data['patch_idx'][1], data['patch_idx'][2]:data['patch_idx'][3]]\n",
    "    rslc2_amp = rslc2[data['patch_idx'][0]:data['patch_idx'][1], data['patch_idx'][2]:data['patch_idx'][3]]\n",
    "    rslc1_label_amp = rslc1_label[data['patch_idx'][0]:data['patch_idx'][1], data['patch_idx'][2]:data['patch_idx'][3]]\n",
    "    rslc2_label_amp = rslc2_label[data['patch_idx'][0]:data['patch_idx'][1], data['patch_idx'][2]:data['patch_idx'][3]]\n",
    "        \n",
    "    id = data['rslc1'].split(\"/\")[-1].split(\".\")[0].split(\"\\\\\")[-1]\n",
    "    ifg = np.angle(np.log(np.abs(rslc2_amp))*np.conjugate(np.log(np.abs(rslc1_amp))))\n",
    "\n",
    "    print('rslc1:',rslc1_amp.shape)\n",
    "    print('rslc2:',rslc2_amp.shape)\n",
    "    print('ifg:',ifg.shape)\n",
    "    print('rslc1_label:',rslc1_label_amp.shape)\n",
    "    print('rslc2_label:',rslc2_label_amp.shape)\n",
    "    \n",
    "    \n",
    "    display_list = {\n",
    "                    \"rslc1\":np.abs(rslc1_amp),\n",
    "                    \"rslc2\":np.abs(rslc2_amp),\n",
    "                    \"ifg\":ifg,\n",
    "                    \"rslc1_label\": rslc1_label_amp,\n",
    "                    \"rslc2_label\":rslc2_label_amp\n",
    "                    }\n",
    "    plot(display_list, id, (config['visualization_dir']+'display_patch'))\n",
    "            \n",
    "# change the value for specific plot\n",
    "train_index = 1\n",
    "val_index = 1\n",
    "test_index = 1\n",
    "\n",
    "\n",
    "with open(\"/mnt/hdd2/mdsamiul/waterbody_detection_complex_data/data/json/train_patch_phr_512.json\", 'r') as j:\n",
    "        patch_dir = json.loads(j.read())\n",
    "train_patch_df = pd.DataFrame.from_dict(patch_dir)\n",
    "print(\"Train examples: \", len(train_patch_df))\n",
    "display_patch(train_patch_df.iloc[train_index], config)\n",
    "    \n",
    "with open(\"/mnt/hdd2/mdsamiul/waterbody_detection_complex_data/data/json/valid_patch_phr_512.json\", 'r') as j:\n",
    "        patch_dir = json.loads(j.read())\n",
    "valid_patch_df = pd.DataFrame.from_dict(patch_dir)\n",
    "print(\"Valid examples: \", len(valid_patch_df))\n",
    "display_patch(valid_patch_df.iloc[val_index], config)\n",
    "    \n",
    "# with open(\"/mnt/hdd2/mdsamiul/waterbody_detection_complex_data/data/json/test_patch_phr_512.json\", 'r') as j:\n",
    "#         patch_dir = json.loads(j.read())\n",
    "# test_patch_df = pd.DataFrame.from_dict(patch_dir)\n",
    "# print(\"Test examples: \",len(test_patch_df))\n",
    "# display_patch(test_patch_df.iloc[test_index], config)"
   ]
  },
  {
   "attachments": {},
   "cell_type": "markdown",
   "metadata": {},
   "source": [
    "#### Plot all the patch images"
   ]
  },
  {
   "cell_type": "code",
   "execution_count": null,
   "metadata": {},
   "outputs": [],
   "source": [
    "def display_patch(data, config):\n",
    "        \"\"\"\n",
    "        Summary:\n",
    "            save all images into single figure\n",
    "        Arguments:\n",
    "            data : data file holding images path\n",
    "            directory (str) : path to save images\n",
    "        Return:\n",
    "            save images figure into directory\n",
    "        \"\"\"\n",
    "        \n",
    "        pathlib.Path((config['visualization_dir']+'display_patch')).mkdir(parents = True, exist_ok = True)\n",
    "        pbar = ProgressBar()\n",
    "        for i in pbar(range(len(data))):\n",
    "            rslc1 = data_reader.readBin(data['rslc0'][i], width=config['tiles_size'], dataType='floatComplex') # SLC(RSLC) image\n",
    "            rslc2 = data_reader.readBin(data['rslc1'][i], width=config['tiles_size'], dataType='floatComplex') # SLC(RSLC) image\n",
    "            rslc1_label = readRas(data['rslc0_label'][i])[0]\n",
    "            rslc2_label = readRas(data['rslc1_label'][i])[0]\n",
    "    \n",
    "            rslc1_label[rslc1_label==255] = 1\n",
    "            rslc2_label[rslc2_label==255] = 1\n",
    "            \n",
    "            rslc1_amp = rslc1[data['patch_idx'][i][0]:data['patch_idx'][i][1], data['patch_idx'][i][2]:data['patch_idx'][i][3]]\n",
    "            rslc2_amp = rslc2[data['patch_idx'][i][0]:data['patch_idx'][i][1], data['patch_idx'][i][2]:data['patch_idx'][i][3]]\n",
    "            rslc1_label_amp = rslc1_label[data['patch_idx'][i][0]:data['patch_idx'][i][1], data['patch_idx'][i][2]:data['patch_idx'][i][3]]\n",
    "            rslc2_label_amp = rslc2_label[data['patch_idx'][i][0]:data['patch_idx'][i][1], data['patch_idx'][i][2]:data['patch_idx'][i][3]]\n",
    "            \n",
    "            id = data['rslc1'][i].split(\"/\")[-1].split(\".\")[0].split(\"\\\\\")[-1]\n",
    "            ifg = np.angle(np.log(np.abs(rslc2_amp))*np.conjugate(np.log(np.abs(rslc1_amp))))\n",
    "            \n",
    "            display_list = {\n",
    "                            \"rslc1\":np.abs(rslc1_amp),\n",
    "                            \"rslc2\":np.abs(rslc2_amp),\n",
    "                            \"ifg\":ifg,\n",
    "                            \"rslc1_label\": rslc1_label_amp,\n",
    "                            \"rslc2_label\":rslc2_label_amp\n",
    "                            }\n",
    "            plot(display_list, id, (config['visualization_dir']+'display_patch'), show=False)\n",
    "            \n",
    "    \n",
    "with open(\"/home/mdsamiul/github_project/waterbody_segmentation_complex_data/data/json/train_patch_phr_512.json\", 'r') as j:\n",
    "    patch_dir = json.loads(j.read())\n",
    "train_patch_df = pd.DataFrame.from_dict(patch_dir)\n",
    "print(\"Train examples: \", len(train_patch_df))\n",
    "display_patch(train_patch_df, config)\n",
    "    \n",
    "with open(\"/home/mdsamiul/github_project/waterbody_segmentation_complex_data/data/json/valid_patch_phr_512.json\", 'r') as j:\n",
    "    patch_dir = json.loads(j.read())\n",
    "valid_patch_df = pd.DataFrame.from_dict(patch_dir)\n",
    "print(\"Valid examples: \", len(valid_patch_df))\n",
    "display_patch(valid_patch_df, config)\n",
    "    \n",
    "with open(\"/home/mdsamiul/github_project/waterbody_segmentation_complex_data/data/json/test_patch_phr_512.json\", 'r') as j:\n",
    "    patch_dir = json.loads(j.read())\n",
    "test_patch_df = pd.DataFrame.from_dict(patch_dir)\n",
    "print(\"Test examples: \",len(test_patch_df))\n",
    "display_patch(test_patch_df, config)"
   ]
  },
  {
   "attachments": {},
   "cell_type": "markdown",
   "metadata": {},
   "source": [
    "#### Plot a single patch balance image"
   ]
  },
  {
   "cell_type": "code",
   "execution_count": 17,
   "metadata": {},
   "outputs": [
    {
     "name": "stdout",
     "output_type": "stream",
     "text": [
      "Train examples:  2856\n",
      "Valid examples:  319\n"
     ]
    }
   ],
   "source": [
    "def display_patch(data, config):\n",
    "    \"\"\"\n",
    "    Summary:\n",
    "        save all images into single figure\n",
    "    Arguments:\n",
    "        data : data file holding images path\n",
    "        directory (str) : path to save images\n",
    "    Return:\n",
    "        save images figure into directory\n",
    "    \"\"\"\n",
    "\n",
    "    pathlib.Path((config['visualization_dir']+'display_patch_balance')).mkdir(parents = True, exist_ok = True)\n",
    "\n",
    "    rslc1 = data_reader.readBin(data['rslc0'], width=config['tiles_size'], dataType='floatComplex') # SLC(RSLC) image\n",
    "    rslc2 = data_reader.readBin(data['rslc1'], width=config['tiles_size'], dataType='floatComplex') # SLC(RSLC) image\n",
    "    rslc1_label = readRas(data['rslc0_label'])[0]\n",
    "    rslc2_label = readRas(data['rslc1_label'])[0]\n",
    "\n",
    "    rslc1_label[rslc1_label==255] = 1\n",
    "    rslc2_label[rslc2_label==255] = 1\n",
    "        \n",
    "    rslc1_amp = rslc1[data['patch_idx'][0]:data['patch_idx'][1], data['patch_idx'][2]:data['patch_idx'][3]]\n",
    "    rslc2_amp = rslc2[data['patch_idx'][0]:data['patch_idx'][1], data['patch_idx'][2]:data['patch_idx'][3]]\n",
    "    rslc1_label_amp = rslc1_label[data['patch_idx'][0]:data['patch_idx'][1], data['patch_idx'][2]:data['patch_idx'][3]]\n",
    "    rslc2_label_amp = rslc2_label[data['patch_idx'][0]:data['patch_idx'][1], data['patch_idx'][2]:data['patch_idx'][3]]\n",
    "        \n",
    "    id = data['rslc1'].split(\"/\")[-1].split(\".\")[0].split(\"\\\\\")[-1]\n",
    "    # ifg = np.angle(np.log(np.abs(rslc2_amp))*np.conjugate(np.log(np.abs(rslc1_amp))))\n",
    "    ifg = np.angle(rslc1_amp*np.conjugate(rslc2_amp))\n",
    "        \n",
    "    display_list = {\n",
    "                    \"rslc1\":np.abs(rslc1_amp),\n",
    "                    \"rslc2\":np.abs(rslc2_amp),\n",
    "                    \"ifg\":ifg,\n",
    "                    \"rslc1_label\": rslc1_label_amp,\n",
    "                    \"rslc2_label\":rslc2_label_amp\n",
    "                    }\n",
    "    plot(display_list, id, (config['visualization_dir']+'display_patch_balance'))\n",
    "            \n",
    "# change the value for specific plot\n",
    "train_index = 10\n",
    "val_index = 10\n",
    "test_index = 1\n",
    "\n",
    "\n",
    "with open(\"/mnt/hdd2/mdsamiul/waterbody_detection_complex_data/data/json/train_patch_phr_cb_512.json\", 'r') as j:\n",
    "        patch_dir = json.loads(j.read())\n",
    "train_patch_df = pd.DataFrame.from_dict(patch_dir)\n",
    "print(\"Train examples: \", len(train_patch_df))\n",
    "display_patch(train_patch_df.iloc[train_index], config)\n",
    "    \n",
    "with open(\"/mnt/hdd2/mdsamiul/waterbody_detection_complex_data/data/json/valid_patch_phr_cb_512.json\", 'r') as j:\n",
    "        patch_dir = json.loads(j.read())\n",
    "valid_patch_df = pd.DataFrame.from_dict(patch_dir)\n",
    "print(\"Valid examples: \", len(valid_patch_df))\n",
    "display_patch(valid_patch_df.iloc[val_index], config)\n",
    "    \n",
    "# with open(\"/home/mdsamiul/github_project/waterbody_segmentation_complex_data/data/json/test_patch_phr_512.json\", 'r') as j:\n",
    "#         patch_dir = json.loads(j.read())\n",
    "# test_patch_df = pd.DataFrame.from_dict(patch_dir)\n",
    "# print(\"Test examples: \",len(test_patch_df))\n",
    "# display_patch(test_patch_df.iloc[test_index], config)"
   ]
  },
  {
   "attachments": {},
   "cell_type": "markdown",
   "metadata": {},
   "source": [
    "#### Plot all the patch balance images"
   ]
  },
  {
   "cell_type": "code",
   "execution_count": null,
   "metadata": {},
   "outputs": [],
   "source": [
    "def display_patch(data, config):\n",
    "        \"\"\"\n",
    "        Summary:\n",
    "            save all images into single figure\n",
    "        Arguments:\n",
    "            data : data file holding images path\n",
    "            directory (str) : path to save images\n",
    "        Return:\n",
    "            save images figure into directory\n",
    "        \"\"\"\n",
    "        \n",
    "        pathlib.Path((config['visualization_dir']+'display_patch_balance')).mkdir(parents = True, exist_ok = True)\n",
    "        pbar = ProgressBar()\n",
    "        for i in pbar(range(len(data))):\n",
    "            rslc1 = data_reader.readBin(data['rslc0'][i], width=config['tiles_size'], dataType='floatComplex') # SLC(RSLC) image\n",
    "            rslc2 = data_reader.readBin(data['rslc1'][i], width=config['tiles_size'], dataType='floatComplex') # SLC(RSLC) image\n",
    "            rslc1_label = readRas(data['rslc0_label'][i])[0]\n",
    "            rslc2_label = readRas(data['rslc1_label'][i])[0]\n",
    "    \n",
    "            rslc1_label[rslc1_label==255] = 1\n",
    "            rslc2_label[rslc2_label==255] = 1\n",
    "            \n",
    "            rslc1_amp = rslc1[data['patch_idx'][i][0]:data['patch_idx'][i][1], data['patch_idx'][i][2]:data['patch_idx'][i][3]]\n",
    "            rslc2_amp = rslc2[data['patch_idx'][i][0]:data['patch_idx'][i][1], data['patch_idx'][i][2]:data['patch_idx'][i][3]]\n",
    "            rslc1_label_amp = rslc1_label[data['patch_idx'][i][0]:data['patch_idx'][i][1], data['patch_idx'][i][2]:data['patch_idx'][i][3]]\n",
    "            rslc2_label_amp = rslc2_label[data['patch_idx'][i][0]:data['patch_idx'][i][1], data['patch_idx'][i][2]:data['patch_idx'][i][3]]\n",
    "            \n",
    "            id = data['rslc1'][i].split(\"/\")[-1].split(\".\")[0].split(\"\\\\\")[-1]\n",
    "            ifg = np.angle(np.log(np.abs(rslc2_amp))*np.conjugate(np.log(np.abs(rslc1_amp))))\n",
    "            \n",
    "            display_list = {\n",
    "                            \"rslc1\":np.abs(rslc1_amp),\n",
    "                            \"rslc2\":np.abs(rslc2_amp),\n",
    "                            \"ifg\":ifg,\n",
    "                            \"rslc1_label\": rslc1_label_amp,\n",
    "                            \"rslc2_label\":rslc2_label_amp\n",
    "                            }\n",
    "            plot(display_list, id, (config['visualization_dir']+'display_patch_balance'), show=False)\n",
    "            \n",
    "    \n",
    "with open(\"/home/mdsamiul/github_project/waterbody_segmentation_complex_data/data/json/train_patch_phr_512.json\", 'r') as j:\n",
    "    patch_dir = json.loads(j.read())\n",
    "train_patch_df = pd.DataFrame.from_dict(patch_dir)\n",
    "print(\"Train examples: \", len(train_patch_df))\n",
    "display_patch(train_patch_df, config)\n",
    "    \n",
    "with open(\"/home/mdsamiul/github_project/waterbody_segmentation_complex_data/data/json/valid_patch_phr_512.json\", 'r') as j:\n",
    "    patch_dir = json.loads(j.read())\n",
    "valid_patch_df = pd.DataFrame.from_dict(patch_dir)\n",
    "print(\"Valid examples: \", len(valid_patch_df))\n",
    "display_patch(valid_patch_df, config)\n",
    "    \n",
    "with open(\"/home/mdsamiul/github_project/waterbody_segmentation_complex_data/data/json/test_patch_phr_512.json\", 'r') as j:\n",
    "    patch_dir = json.loads(j.read())\n",
    "test_patch_df = pd.DataFrame.from_dict(patch_dir)\n",
    "print(\"Test examples: \",len(test_patch_df))\n",
    "display_patch(test_patch_df, config)"
   ]
  }
 ],
 "metadata": {
  "kernelspec": {
   "display_name": "tf_gpu",
   "language": "python",
   "name": "python3"
  },
  "language_info": {
   "codemirror_mode": {
    "name": "ipython",
    "version": 3
   },
   "file_extension": ".py",
   "mimetype": "text/x-python",
   "name": "python",
   "nbconvert_exporter": "python",
   "pygments_lexer": "ipython3",
   "version": "3.9.7"
  },
  "orig_nbformat": 4
 },
 "nbformat": 4,
 "nbformat_minor": 2
}
